{
 "cells": [
  {
   "cell_type": "code",
   "execution_count": 1,
   "metadata": {},
   "outputs": [],
   "source": [
    "from my_plot_tools import plot_confusion_matrix, plot_coefficients"
   ]
  },
  {
   "cell_type": "code",
   "execution_count": 2,
   "metadata": {},
   "outputs": [],
   "source": [
    "import pandas as pd\n",
    "import numpy as np\n",
    "import matplotlib.pyplot as plt\n",
    "%matplotlib inline"
   ]
  },
  {
   "cell_type": "code",
   "execution_count": 3,
   "metadata": {},
   "outputs": [],
   "source": [
    "from sklearn.feature_extraction.text import TfidfVectorizer\n",
    "from sklearn.model_selection import train_test_split, StratifiedKFold\n",
    "from sklearn.metrics import confusion_matrix, f1_score"
   ]
  },
  {
   "cell_type": "code",
   "execution_count": 4,
   "metadata": {},
   "outputs": [],
   "source": [
    "import warnings\n",
    "warnings.filterwarnings('ignore')"
   ]
  },
  {
   "cell_type": "markdown",
   "metadata": {},
   "source": [
    "## Loading Data"
   ]
  },
  {
   "cell_type": "code",
   "execution_count": 5,
   "metadata": {},
   "outputs": [],
   "source": [
    "def load_news_proportion(df_fake, df_real, fake_pct= None, use_all=False):\n",
    "    '''\n",
    "    returns dataset comprised of fake_pct of fake news, or use_all data\n",
    "    '''\n",
    "    assert fake_pct or use_all\n",
    "    max_pct = df_fake.shape[0] / (df_fake.shape[0] + df_real.shape[0])\n",
    "    \n",
    "    if use_all:\n",
    "        return pd.concat([df_real, df_fake], axis=0).sample(frac=1).reset_index(drop=True)\n",
    "    \n",
    "    if fake_pct > max_pct:\n",
    "        n_real = int(((1/fake_pct) - 1) * df_fake.shape[0])\n",
    "        return pd.concat([df_real.sample(n_real), df_fake], axis=0).sample(frac=1).reset_index(drop=True)\n",
    "    \n",
    "    n_fake = int((fake_pct / (1 - fake_pct)) * df_real.shape[0])\n",
    "    return pd.concat([df_real, df_fake.sample(n_fake)], axis=0).sample(frac=1).reset_index(drop=True)"
   ]
  },
  {
   "cell_type": "code",
   "execution_count": 6,
   "metadata": {},
   "outputs": [],
   "source": [
    "df_fake = pd.read_csv('./fake_news_set.csv')\n",
    "df_real = pd.read_csv('./real_news_set.csv')"
   ]
  },
  {
   "cell_type": "code",
   "execution_count": 7,
   "metadata": {
    "scrolled": false
   },
   "outputs": [
    {
     "data": {
      "text/plain": [
       "label\n",
       "0    4702\n",
       "1    4702\n",
       "dtype: int64"
      ]
     },
     "execution_count": 7,
     "metadata": {},
     "output_type": "execute_result"
    }
   ],
   "source": [
    "df = load_news_proportion(df_fake, df_real, fake_pct=0.5)\n",
    "df.groupby('label').size()"
   ]
  },
  {
   "cell_type": "markdown",
   "metadata": {},
   "source": [
    "## Using only Body"
   ]
  },
  {
   "cell_type": "markdown",
   "metadata": {},
   "source": [
    "### Feature Extraction"
   ]
  },
  {
   "cell_type": "markdown",
   "metadata": {},
   "source": [
    "#### Stop Words"
   ]
  },
  {
   "cell_type": "code",
   "execution_count": 8,
   "metadata": {},
   "outputs": [],
   "source": [
    "from sklearn.feature_extraction import text"
   ]
  },
  {
   "cell_type": "code",
   "execution_count": 9,
   "metadata": {},
   "outputs": [],
   "source": [
    "df_stopwords = pd.read_csv(\"./sw1k.csv\") # Standard News Stopwords (1k)\n",
    "sw1k_stopwords = list(df_stopwords['term'])\n",
    "source_stopwords = ['cnn', 'reuters', 'npr', 'bbc', 'guardian', 'foxnews', 'humansarefree', 'breitbart'] # common source stopwords\n",
    "url_stopwords = ['www', 'http', 'https', 'com', 'html', 'october'] # URL stopwords"
   ]
  },
  {
   "cell_type": "code",
   "execution_count": 10,
   "metadata": {},
   "outputs": [],
   "source": [
    "# Using standard english stopwords, plus additional\n",
    "my_stop_words = text.ENGLISH_STOP_WORDS.union(url_stopwords, sw1k_stopwords, source_stopwords)"
   ]
  },
  {
   "cell_type": "markdown",
   "metadata": {},
   "source": [
    "#### Vectorizing Words"
   ]
  },
  {
   "cell_type": "code",
   "execution_count": 11,
   "metadata": {},
   "outputs": [],
   "source": [
    "vect = TfidfVectorizer(ngram_range=(1,1), stop_words=my_stop_words, max_features=10000)"
   ]
  },
  {
   "cell_type": "code",
   "execution_count": 12,
   "metadata": {},
   "outputs": [
    {
     "name": "stdout",
     "output_type": "stream",
     "text": [
      "CPU times: user 4.32 s, sys: 81.1 ms, total: 4.4 s\n",
      "Wall time: 4.39 s\n"
     ]
    }
   ],
   "source": [
    "%%time\n",
    "X = vect.fit_transform(df['body'].astype(str)).copy()\n",
    "y = df.loc[:, 'label'].copy()"
   ]
  },
  {
   "cell_type": "markdown",
   "metadata": {},
   "source": [
    "#### Train-Test Split"
   ]
  },
  {
   "cell_type": "code",
   "execution_count": 13,
   "metadata": {
    "scrolled": true
   },
   "outputs": [
    {
     "data": {
      "text/plain": [
       "(7053, 10000)"
      ]
     },
     "execution_count": 13,
     "metadata": {},
     "output_type": "execute_result"
    }
   ],
   "source": [
    "X_train, X_test, y_train, y_test = train_test_split(X, y, test_size=0.25, random_state=1345)\n",
    "X_train.shape"
   ]
  },
  {
   "cell_type": "markdown",
   "metadata": {},
   "source": [
    "### Naive-Bayes"
   ]
  },
  {
   "cell_type": "code",
   "execution_count": 14,
   "metadata": {},
   "outputs": [],
   "source": [
    "from sklearn.naive_bayes import MultinomialNB"
   ]
  },
  {
   "cell_type": "code",
   "execution_count": 15,
   "metadata": {
    "scrolled": true
   },
   "outputs": [
    {
     "name": "stdout",
     "output_type": "stream",
     "text": [
      "CPU times: user 79 ms, sys: 3.35 ms, total: 82.4 ms\n",
      "Wall time: 14.2 ms\n"
     ]
    }
   ],
   "source": [
    "%%time\n",
    "nb_model = MultinomialNB()\n",
    "nb_model.fit(X_train, y_train)"
   ]
  },
  {
   "cell_type": "code",
   "execution_count": 16,
   "metadata": {
    "scrolled": false
   },
   "outputs": [
    {
     "name": "stdout",
     "output_type": "stream",
     "text": [
      "Model Accuracy: 0.8596\n",
      "Model F1-Score: 0.8464\n"
     ]
    }
   ],
   "source": [
    "print(f\"Model Accuracy: {nb_model.score(X_test, y_test):.4f}\")\n",
    "print(f\"Model F1-Score: {f1_score(nb_model.predict(X_test), y_test):.4f}\")"
   ]
  },
  {
   "cell_type": "code",
   "execution_count": 17,
   "metadata": {
    "scrolled": true
   },
   "outputs": [
    {
     "name": "stdout",
     "output_type": "stream",
     "text": [
      "Normalized confusion matrix\n",
      "[[0.89245586 0.10754414]\n",
      " [0.17737557 0.82262443]]\n"
     ]
    },
    {
     "data": {
      "image/png": "[encoded data removed]",
      "text/plain": [
       "<Figure size 432x288 with 2 Axes>"
      ]
     },
     "metadata": {
      "needs_background": "light"
     },
     "output_type": "display_data"
    }
   ],
   "source": [
    "y_pred = nb_model.predict(X_test)\n",
    "assert y_pred.shape == y_test.shape\n",
    "plot_confusion_matrix(y_test, y_pred, classes=np.array(['fake', 'legit']), normalize=True,\n",
    "                      title='Naive-Bayes on 50% Fake News');"
   ]
  },
  {
   "cell_type": "markdown",
   "metadata": {},
   "source": [
    "### SVM"
   ]
  },
  {
   "cell_type": "code",
   "execution_count": 18,
   "metadata": {},
   "outputs": [],
   "source": [
    "from sklearn.linear_model import SGDClassifier"
   ]
  },
  {
   "cell_type": "code",
   "execution_count": 19,
   "metadata": {},
   "outputs": [
    {
     "name": "stdout",
     "output_type": "stream",
     "text": [
      "CPU times: user 98 ms, sys: 1.29 ms, total: 99.3 ms\n",
      "Wall time: 23.4 ms\n"
     ]
    }
   ],
   "source": [
    "%%time\n",
    "svm_model = SGDClassifier(loss='hinge');\n",
    "svm_model.fit(X_train, y_train);"
   ]
  },
  {
   "cell_type": "code",
   "execution_count": 20,
   "metadata": {
    "scrolled": false
   },
   "outputs": [
    {
     "name": "stdout",
     "output_type": "stream",
     "text": [
      "Model Accuracy: 0.9043\n",
      "Model F1-Score: 0.8998\n"
     ]
    }
   ],
   "source": [
    "print(f\"Model Accuracy: {svm_model.score(X_test, y_test):.4f}\")\n",
    "print(f\"Model F1-Score: {f1_score(svm_model.predict(X_test), y_test):.4f}\")"
   ]
  },
  {
   "cell_type": "code",
   "execution_count": 21,
   "metadata": {
    "scrolled": true
   },
   "outputs": [
    {
     "name": "stdout",
     "output_type": "stream",
     "text": [
      "Normalized confusion matrix\n",
      "[[0.89566613 0.10433387]\n",
      " [0.08597285 0.91402715]]\n"
     ]
    },
    {
     "data": {
      "image/png": "[encoded data removed]",
      "text/plain": [
       "<Figure size 432x288 with 2 Axes>"
      ]
     },
     "metadata": {
      "needs_background": "light"
     },
     "output_type": "display_data"
    }
   ],
   "source": [
    "y_pred = svm_model.predict(X_test)\n",
    "assert y_pred.shape == y_test.shape\n",
    "plot_confusion_matrix(y_test, y_pred, classes=np.array(['fake', 'legit']), normalize=True,\n",
    "                      title='SVM on 50% Fake News');"
   ]
  },
  {
   "cell_type": "markdown",
   "metadata": {},
   "source": [
    "- seems like SVM is good, though I wonder wonder why NB performs much worse (need to learn more about how NB works)"
   ]
  },
  {
   "cell_type": "markdown",
   "metadata": {},
   "source": [
    "### Cross-Validation"
   ]
  },
  {
   "cell_type": "code",
   "execution_count": 22,
   "metadata": {},
   "outputs": [
    {
     "name": "stdout",
     "output_type": "stream",
     "text": [
      "Mean NB Accuracy Score/Var: (0.8514478744836288, 0.00012855477895329574)\n",
      "Mean NB F1 Score/Var: (0.8446626279887629, 0.00015624244860892576)\n",
      "\n",
      "Mean SVM Accuracy Score/Var: (0.9049347795120165, 8.309872472690958e-05)\n",
      "Mean SVM F1 Score/Var: (0.9050773843555232, 8.390363508118603e-05)\n",
      "CPU times: user 2.94 s, sys: 44.2 ms, total: 2.98 s\n",
      "Wall time: 632 ms\n"
     ]
    }
   ],
   "source": [
    "%%time\n",
    "N = 15\n",
    "skf = StratifiedKFold(n_splits=N, random_state=None)\n",
    "svm_scores, nb_scores = [], []\n",
    "for train_index, test_index in skf.split(X, y): \n",
    "    X_train, X_test = X[train_index], X[test_index] \n",
    "    y_train, y_test = y[train_index], y[test_index]\n",
    "    \n",
    "    svm_model.fit(X_train, y_train)\n",
    "    fscore = f1_score(svm_model.predict(X_test), y_test)\n",
    "    score = svm_model.score(X_test, y_test)\n",
    "    svm_scores.append((score, fscore))\n",
    "    \n",
    "    nb_model.fit(X_train, y_train)\n",
    "    fscore = f1_score(nb_model.predict(X_test), y_test)\n",
    "    score = nb_model.score(X_test, y_test)\n",
    "    nb_scores.append((score, fscore))\n",
    "    \n",
    "print(f\"Mean NB Accuracy Score/Var: {np.mean([s[0] for s in nb_scores]), np.var([s[0] for s in nb_scores])}\")\n",
    "print(f\"Mean NB F1 Score/Var: {np.mean([s[1] for s in nb_scores]), np.var([s[1] for s in nb_scores])}\\n\")\n",
    "\n",
    "print(f\"Mean SVM Accuracy Score/Var: {np.mean([s[0] for s in svm_scores]), np.var([s[0] for s in svm_scores])}\")\n",
    "print(f\"Mean SVM F1 Score/Var: {np.mean([s[1] for s in svm_scores]), np.var([s[1] for s in svm_scores])}\")"
   ]
  },
  {
   "cell_type": "markdown",
   "metadata": {},
   "source": [
    "### Feature analysis"
   ]
  },
  {
   "cell_type": "code",
   "execution_count": 23,
   "metadata": {
    "scrolled": false
   },
   "outputs": [
    {
     "data": {
      "image/png": "[encoded data removed]",
      "text/plain": [
       "<Figure size 1080x360 with 1 Axes>"
      ]
     },
     "metadata": {
      "needs_background": "light"
     },
     "output_type": "display_data"
    }
   ],
   "source": [
    "plot_coefficients(svm_model, vect.get_feature_names())"
   ]
  },
  {
   "cell_type": "markdown",
   "metadata": {},
   "source": [
    "### Assessing Accuracy with Different Percentages of Fake News"
   ]
  },
  {
   "cell_type": "code",
   "execution_count": 24,
   "metadata": {},
   "outputs": [],
   "source": [
    "percentages = [0.01, 0.02, 0.03, 0.05, 0.1, 0.15, 0.25, 0.33, 0.5]"
   ]
  },
  {
   "cell_type": "code",
   "execution_count": 25,
   "metadata": {},
   "outputs": [
    {
     "name": "stdout",
     "output_type": "stream",
     "text": [
      "0.01 being assessed.\n",
      "0.02 being assessed.\n",
      "0.03 being assessed.\n",
      "0.05 being assessed.\n",
      "0.1 being assessed.\n",
      "0.15 being assessed.\n",
      "0.25 being assessed.\n",
      "0.33 being assessed.\n",
      "0.5 being assessed.\n"
     ]
    }
   ],
   "source": [
    "acc_scores, fscores = [], []\n",
    "for fake_pct in percentages:\n",
    "    print(f\"{fake_pct} being assessed.\")\n",
    "    df = load_news_proportion(df_fake, df_real, fake_pct=fake_pct)\n",
    "    vect = TfidfVectorizer(ngram_range=(1,1), stop_words=my_stop_words, max_features=10000)\n",
    "    \n",
    "    X = vect.fit_transform(df['body'].astype(str)).copy()\n",
    "    y = df.loc[:, 'label'].copy()\n",
    "    \n",
    "    X_train, X_test, y_train, y_test = train_test_split(X, y, test_size=0.25, random_state=1345)\n",
    "    test_model = SGDClassifier();\n",
    "    test_model.fit(X_train, y_train);\n",
    "    \n",
    "    acc_scores.append(test_model.score(X_test, y_test))\n",
    "    fscores.append(f1_score(test_model.predict(X_test), y_test))"
   ]
  },
  {
   "cell_type": "code",
   "execution_count": 26,
   "metadata": {
    "scrolled": false
   },
   "outputs": [
    {
     "data": {
      "text/plain": [
       "Text(0, 0.5, 'F1 Score')"
      ]
     },
     "execution_count": 26,
     "metadata": {},
     "output_type": "execute_result"
    },
    {
     "data": {
      "image/png": "[encoded data removed]",
      "text/plain": [
       "<Figure size 1080x360 with 2 Axes>"
      ]
     },
     "metadata": {
      "needs_background": "light"
     },
     "output_type": "display_data"
    }
   ],
   "source": [
    "fig, ax = plt.subplots(1,2, figsize=(15,5))\n",
    "x_label = 100*np.array(percentages)\n",
    "ax[0].plot(x_label, acc_scores)\n",
    "ax[0].grid()\n",
    "ax[0].set_xticks(np.arange(0, 50.1, 5))\n",
    "ax[0].set_yticks(np.arange(0.85, 1, 0.025))\n",
    "ax[0].set_title(\"Accuracy Scores when Varying Proportion of Fake News\")\n",
    "ax[0].set_xlabel(\"% Fake News\")\n",
    "ax[0].set_ylabel(\"Accuracy Score\")\n",
    "\n",
    "ax[1].plot(x_label, fscores)\n",
    "ax[1].grid()\n",
    "ax[1].set_xticks(np.arange(0, 50.1, 5))\n",
    "ax[1].set_yticks(np.arange(0, 1, 0.1))\n",
    "ax[1].set_title(\"F1 Scores when Varying Proportion of Fake News\")\n",
    "ax[1].set_xlabel(\"% Fake News\")\n",
    "ax[1].set_ylabel(\"F1 Score\")"
   ]
  }
 ],
 "metadata": {
  "kernelspec": {
   "display_name": "Python 3",
   "language": "python",
   "name": "python3"
  },
  "language_info": {
   "codemirror_mode": {
    "name": "ipython",
    "version": 3
   },
   "file_extension": ".py",
   "mimetype": "text/x-python",
   "name": "python",
   "nbconvert_exporter": "python",
   "pygments_lexer": "ipython3",
   "version": "3.7.1"
  }
 },
 "nbformat": 4,
 "nbformat_minor": 2
}
