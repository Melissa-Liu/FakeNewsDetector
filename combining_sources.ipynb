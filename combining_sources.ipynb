{
 "cells": [
  {
   "cell_type": "code",
   "execution_count": 1,
   "metadata": {},
   "outputs": [],
   "source": [
    "import pandas as pd\n",
    "import numpy as np"
   ]
  },
  {
   "cell_type": "code",
   "execution_count": 2,
   "metadata": {
    "scrolled": true
   },
   "outputs": [
    {
     "name": "stdout",
     "output_type": "stream",
     "text": [
      "README.md\r\n",
      "Twitter_Sentiment_Classification_using_D.pdf\r\n",
      "\u001b[34m__pycache__\u001b[m\u001b[m\r\n",
      "body_only.ipynb\r\n",
      "combining_sources.ipynb\r\n",
      "\u001b[34mdata_raw\u001b[m\u001b[m\r\n",
      "fake_news_set.csv\r\n",
      "headers_only.ipynb\r\n",
      "my_plot_tools.py\r\n",
      "real_news_set.csv\r\n",
      "shu.pdf\r\n",
      "sw1k.csv\r\n",
      "word_embeddings.ipynb\r\n"
     ]
    }
   ],
   "source": [
    "!ls"
   ]
  },
  {
   "cell_type": "code",
   "execution_count": 3,
   "metadata": {
    "scrolled": true
   },
   "outputs": [
    {
     "name": "stderr",
     "output_type": "stream",
     "text": [
      "/anaconda3/lib/python3.7/site-packages/pandas/core/indexing.py:1472: FutureWarning: \n",
      "Passing list-likes to .loc or [] with any missing label will raise\n",
      "KeyError in the future, you can use .reindex() as an alternative.\n",
      "\n",
      "See the documentation here:\n",
      "https://pandas.pydata.org/pandas-docs/stable/indexing.html#deprecate-loc-reindex-listlike\n",
      "  return self._getitem_tuple(key)\n"
     ]
    }
   ],
   "source": [
    "df_mrisdal = pd.read_csv('./data_raw/mrisdal.csv').dropna(axis='rows').loc[:, ['site_url', 'title', 'text', 'label']].copy();\n",
    "df_mrisdal['label'] = 1;\n",
    "df_mrisdal.columns = ['url', 'headline', 'body', 'label']\n",
    "df_mrisdal.dropna(axis='rows', inplace=True);"
   ]
  },
  {
   "cell_type": "code",
   "execution_count": 4,
   "metadata": {},
   "outputs": [],
   "source": [
    "df_real = pd.read_csv('./data_raw/real_news.csv').dropna(axis='rows')\n",
    "df_real = df_real.loc[:, ['url', 'title', 'content', 'label']].copy();\n",
    "df_real['label'] = 0;\n",
    "df_real.columns = ['url', 'headline', 'body', 'label']\n",
    "df_real.dropna(axis='rows', inplace=True);"
   ]
  },
  {
   "cell_type": "code",
   "execution_count": 5,
   "metadata": {},
   "outputs": [],
   "source": [
    "df = pd.concat([df_real, df_mrisdal])"
   ]
  },
  {
   "cell_type": "code",
   "execution_count": 6,
   "metadata": {
    "scrolled": true
   },
   "outputs": [
    {
     "data": {
      "text/plain": [
       "label\n",
       "0    9963\n",
       "1    4702\n",
       "dtype: int64"
      ]
     },
     "execution_count": 6,
     "metadata": {},
     "output_type": "execute_result"
    }
   ],
   "source": [
    "df.groupby('label').size() # Note that data is unbalanced - perhaps some resampling needed"
   ]
  },
  {
   "cell_type": "code",
   "execution_count": 7,
   "metadata": {},
   "outputs": [],
   "source": [
    "df_fake = df.loc[df['label'] == 1, :].copy().reset_index(drop=True)\n",
    "df_real = df.loc[df['label'] == 0, :].copy().reset_index(drop=True)"
   ]
  },
  {
   "cell_type": "code",
   "execution_count": 8,
   "metadata": {},
   "outputs": [],
   "source": [
    "df_real.to_csv('real_news_set.csv', index=False)\n",
    "df_fake.to_csv('fake_news_set.csv', index=False)"
   ]
  }
 ],
 "metadata": {
  "kernelspec": {
   "display_name": "Python 3",
   "language": "python",
   "name": "python3"
  },
  "language_info": {
   "codemirror_mode": {
    "name": "ipython",
    "version": 3
   },
   "file_extension": ".py",
   "mimetype": "text/x-python",
   "name": "python",
   "nbconvert_exporter": "python",
   "pygments_lexer": "ipython3",
   "version": "3.7.1"
  }
 },
 "nbformat": 4,
 "nbformat_minor": 2
}
